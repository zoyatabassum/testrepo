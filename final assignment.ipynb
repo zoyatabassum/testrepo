{
 "cells": [
  {
   "cell_type": "markdown",
   "id": "72bfc755",
   "metadata": {},
   "source": [
    "# Data Science Project"
   ]
  },
  {
   "cell_type": "markdown",
   "id": "0c7483a4",
   "metadata": {},
   "source": [
    "# Introduction\n",
    "\n",
    "Welcome to this Data Science project! In this notebook, we will explore various data analysis and visualization techniques using Python. Our goal is to gain insights from the provided data and apply machine learning models to make predictions.\n",
    "\n",
    "Throughout this notebook, you’ll find detailed explanations of each step, code blocks for implementation, and visualizations to support our findings. Let’s get started!"
   ]
  },
  {
   "cell_type": "markdown",
   "id": "4022aa01",
   "metadata": {},
   "source": [
    "# Data Science Languages\n",
    "\n",
    "In data science, various programming languages are used for data manipulation, analysis, and machine learning. Some of the most popular languages include:\n",
    "\n",
    "- **Python**: Known for its simplicity and a vast library ecosystem for data science (e.g., Pandas, NumPy, Scikit-learn).\n",
    "- **R**: Highly regarded for statistical analysis and data visualization, with packages like ggplot2 and dplyr.\n",
    "- **SQL**: Essential for querying and managing data in relational databases.\n",
    "- **Java**: Used in big data frameworks like Hadoop and Spark.\n",
    "- **Julia**: Known for its high performance in numerical analysis and computational science.\n",
    "- **Scala**: Often used with Apache Spark for big data processing.\n",
    "\n",
    "Each language has unique strengths that make it suitable for specific data science tasks.\n"
   ]
  },
  {
   "cell_type": "markdown",
   "id": "842e6964",
   "metadata": {},
   "source": [
    "# Data Science Libraries\n",
    "\n",
    "Data science relies on a wide variety of libraries to streamline data processing, analysis, and visualization. Some of the most widely used libraries include:\n",
    "\n",
    "- **Pandas**: Provides data manipulation and analysis tools, particularly for handling structured data.\n",
    "- **NumPy**: Supports numerical computations and efficient handling of large arrays and matrices.\n",
    "- **Matplotlib**: A foundational \n"
   ]
  },
  {
   "cell_type": "markdown",
   "id": "9e636893",
   "metadata": {},
   "source": [
    "# Data Science Tools\n",
    "\n",
    "| Tool                  | Description                                                      |\n",
    "|-----------------------|------------------------------------------------------------------|\n",
    "| Jupyter Notebook      | An open-source web application for creating and sharing documents that contain live code, equations, visualizations, and narrative text. |\n",
    "| RStudio               | An integrated development environment (IDE) for R, designed for data analysis and visualization. |\n",
    "| Apache Spark          | A powerful open-source processing engine for large-scale data analytics. |\n",
    "| TensorFlow            | An open-source platform for machine learning and deep learning developed by Google. |\n",
    "| IBM Watson Studio     | A suite of tools for building and training AI and machine learning models. |\n",
    "| SAS                   | A software suite developed for advanced analytics, multivari\n"
   ]
  },
  {
   "cell_type": "markdown",
   "id": "f40aa9f5",
   "metadata": {},
   "source": [
    "# Arithmetic Expression Examples\n",
    "\n",
    "In data science and programming, arithmetic expressions are fundamental for performing calculations. They include basic mathematical operations like addition, subtraction, multiplication, and division. Here are some examples:\n",
    "\n",
    "- **Addition (+)**: Combines two numbers (e.g., `5 + 3 = 8`)\n",
    "- **Subtraction (-)**: Finds the difference between two numbers (e.g., `10 - 4 = 6`)\n",
    "- **Multiplication (\\*)**: Multiplies two numbers (e.g., `6 * 2 = 12`)\n",
    "- **Division (/)**: Divides one number by another (e.g., `15 / 3 = 5`)\n",
    "\n",
    "Arithmetic expressions are commonly used in data analysis to perform calculations on datasets and manipulate data values.\n"
   ]
  },
  {
   "cell_type": "code",
   "execution_count": 1,
   "id": "e8cc604d",
   "metadata": {},
   "outputs": [
    {
     "data": {
      "text/plain": [
       "17"
      ]
     },
     "execution_count": 1,
     "metadata": {},
     "output_type": "execute_result"
    }
   ],
   "source": [
    "# Multiplying and adding numbers\n",
    "result = (3 * 4) + 5\n",
    "result\n"
   ]
  },
  {
   "cell_type": "code",
   "execution_count": 2,
   "id": "5ba99a31",
   "metadata": {},
   "outputs": [
    {
     "data": {
      "text/plain": [
       "2.5"
      ]
     },
     "execution_count": 2,
     "metadata": {},
     "output_type": "execute_result"
    }
   ],
   "source": [
    "# Convert minutes to hours\n",
    "minutes = 150\n",
    "hours = minutes / 60\n",
    "hours"
   ]
  },
  {
   "cell_type": "markdown",
   "id": "9dd82b2c",
   "metadata": {},
   "source": [
    "## Objectives\n",
    "\n",
    "- Understand the basics of Python programming.\n",
    "- Learn how to perform arithmetic operations.\n",
    "- Convert minutes to hours and vice versa.\n",
    "- Explore data science languages and libraries.\n",
    "- Get familiar with data science tools and environments.\n"
   ]
  },
  {
   "cell_type": "markdown",
   "id": "6dab6f3c",
   "metadata": {},
   "source": [
    "## Author\n",
    "\n",
    "This notebook is created by **Syeeda zoya tabassum**.\n"
   ]
  },
  {
   "cell_type": "code",
   "execution_count": null,
   "id": "4685bc4b",
   "metadata": {},
   "outputs": [],
   "source": []
  }
 ],
 "metadata": {
  "kernelspec": {
   "display_name": "Python 3 (ipykernel)",
   "language": "python",
   "name": "python3"
  },
  "language_info": {
   "codemirror_mode": {
    "name": "ipython",
    "version": 3
   },
   "file_extension": ".py",
   "mimetype": "text/x-python",
   "name": "python",
   "nbconvert_exporter": "python",
   "pygments_lexer": "ipython3",
   "version": "3.11.4"
  }
 },
 "nbformat": 4,
 "nbformat_minor": 5
}
